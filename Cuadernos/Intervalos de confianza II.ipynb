{
 "cells": [
  {
   "attachments": {},
   "cell_type": "markdown",
   "metadata": {},
   "source": [
    "# Intervalo de confianza para **$\\mu$** con **$\\sigma$** desconocida o tamaño de muestra pequeño\n",
    "\n",
    "\n",
    "|<img src=\"https://www.iconfinder.com/data/icons/ringtone-music-instruments/512/mu-symbol-letter-greek-alphabet-128.png\" width=110 height=110/>|<img src=\"https://www.iconfinder.com/data/icons/ringtone-music-instruments/512/sigma-symbol-greek-alphabet-letter-512.png\" width=40 height=40/>| <img src=\"https://cdn3.iconfinder.com/data/icons/ui-super-basic-flat/32/question-256.png\" width=40 height=40 />|\n",
    "|-|-|-|\n",
    "||||\n",
    "\n",
    "</p>\n",
    "En la práctica, no es habitual conocer la desviación estándar, así que esta debe estimarse a partir de la muestra, igual que se estima la media. El intervalo de confianza para la media de una variable aleatoria normal, con desviación típica desconocida, tiene la siguiente forma:\n",
    "\n",
    "$$\\bar{X}\\pm t_{n-1,\\alpha/2}\\frac{S}{\\sqrt{n}}$$\n",
    "con $t_{n-1,\\alpha/2}$ el valor de ls distribución $t-student$ con $n-1$ grados de libertad y probabilidad a la izqierda de $\\alpha/2$\n",
    "\n",
    "para $t_{11,0.025}=-2.200985$ en R\n"
   ]
  },
  {
   "cell_type": "code",
   "execution_count": 28,
   "metadata": {},
   "outputs": [
    {
     "data": {
      "text/html": [
       "-2.20098516009164"
      ],
      "text/latex": [
       "-2.20098516009164"
      ],
      "text/markdown": [
       "-2.20098516009164"
      ],
      "text/plain": [
       "[1] -2.20099"
      ]
     },
     "metadata": {},
     "output_type": "display_data"
    },
    {
     "data": {
      "image/png": "[encoded data removed]",
      "text/plain": [
       "plot without title"
      ]
     },
     "metadata": {
      "image/png": {
       "height": 420,
       "width": 420
      }
     },
     "output_type": "display_data"
    }
   ],
   "source": [
    "options(warn=-1)#no mostrar advertencias\n",
    "qt(0.025,df=11,lower.tail = T)\n",
    "library(mosaic)\n",
    "plotDist(\"t\", df = 11, groups = x > 2.20, type = \"h\",col=c(\"#B53114\",\"#1F516E\"))"
   ]
  },
  {
   "attachments": {},
   "cell_type": "markdown",
   "metadata": {},
   "source": [
    "## Supuestos necesarios para construir el intervalo de confianza\n",
    "\n",
    "<img src=\"https://www.iconfinder.com/data/icons/unigrid-phantom-security-vol-2/60/013_081_stop_block_sign_hand_access_denied-128.png\" width=80 height=80\\>\n",
    "- La muestra es aleatoria simple\n",
    "\n",
    "- Los datos provienen de una población con distribución de probabilidad normal\n",
    "\n",
    "## Distribución t-Student \n",
    "\n",
    "|<img src=\"https://www.iconfinder.com/data/icons/letters-and-numbers-1/32/letter_T_blue-512.png\" width=80 height=80/>| <img src=\"https://www.iconfinder.com/data/icons/leto-blue-online-education/64/__student_laptop_hat_study-512.png\" width=80/>|\n",
    "|-|-|\n",
    "|||\n",
    "\n",
    "[Descargar Tablas](https://github.com/jazaineam1/UCE1/raw/master/Cuadernos/tablas2caras.pdf)\n",
    "\n",
    "La distribución t-Student tiene forma simétrica alrededor del valor 0.\n",
    "\n",
    "Su amplitud varia dependiendo del tamaño de muestra empleado, a  mayor tamaño de muestra menor amplitud. \n",
    "\n",
    "### Ejemplo 1\n",
    "<img src=\"https://www.iconfinder.com/data/icons/basic-flat-icon-set/128/car-128.png\" width=80 height=80\\>\n",
    "Dylan Jones lleva registros meticulosos de la eficiencia en el gasto de combustible de su nuevo\n",
    "auto. Después de las primeras nueve veces que llenó el tanque, encontró que la media era de 23.4\n",
    "millas por galón (mpg) con una desviación estándar muestral de 0.9 mpg.\n",
    "\n",
    "- Calcule el intervalo de confianza del $95\\%$ para su mpg.\n"
   ]
  },
  {
   "cell_type": "code",
   "execution_count": 8,
   "metadata": {},
   "outputs": [
    {
     "data": {
      "text/html": [
       "22.7081987594387"
      ],
      "text/latex": [
       "22.7081987594387"
      ],
      "text/markdown": [
       "22.7081987594387"
      ],
      "text/plain": [
       "[1] 23"
      ]
     },
     "metadata": {},
     "output_type": "display_data"
    },
    {
     "data": {
      "text/html": [
       "24.0918012405612"
      ],
      "text/latex": [
       "24.0918012405612"
      ],
      "text/markdown": [
       "24.0918012405612"
      ],
      "text/plain": [
       "[1] 24"
      ]
     },
     "metadata": {},
     "output_type": "display_data"
    }
   ],
   "source": [
    "LI=23.4-qt(0.975,df=8)*0.9/sqrt(9);LI\n",
    "LS=23.4+qt(0.975,df=8)*0.9/sqrt(9);LS"
   ]
  },
  {
   "cell_type": "markdown",
   "metadata": {},
   "source": [
    "### Ejemplo 2\n",
    "<img src=\"https://www.iconfinder.com/data/icons/interior-homedecor-vol-4/512/paint_wall_oil_brush-128.png\" width=80 height=80\\>\n",
    "Casi todas las marcas de pintura indican que, en\n",
    "una capa, 1 galón cubrirá entre 250 y 500 pies cuadrados, dependiendo de la textura de la\n",
    "superficie a pintarse. Un fabricante, sin embargo, dice que 1 galón de su pintura cubrirá\n",
    "400 pies cuadrados de área superficial. Para probar su dicho, una muestra aleatoria de\n",
    "10 latas de 1 galón de pintura blanca se empleó para pintar 10 áreas idénticas usando\n",
    "la misma clase de equipo. Las áreas reales (en pies cuadrados) cubiertas por estos 10\n",
    "galones de pintura se dan a continuación:\n",
    "\n",
    "| 310 \t| 311 \t| 412 \t| 368 \t| 447 \t| 376 \t| 303 \t| 410 \t| 365 \t| 350 \t|\n",
    "|-\t|-\t|-\t|-\t|-\t|-\t|-\t|-\t|-\t|-\t|\n",
    "\n",
    "Encuentre el intervalo de confianza al 90% para el promedio de área pintada"
   ]
  },
  {
   "cell_type": "code",
   "execution_count": 29,
   "metadata": {
    "scrolled": true
   },
   "outputs": [
    {
     "data": {
      "text/plain": [
       "\n",
       "\tOne Sample t-test\n",
       "\n",
       "data:  area\n",
       "t = 23.85, df = 9, p-value = 0.00000000191\n",
       "alternative hypothesis: true mean is not equal to 0\n",
       "95 percent confidence interval:\n",
       " 330.565 399.835\n",
       "sample estimates:\n",
       "mean of x \n",
       "    365.2 \n"
      ]
     },
     "metadata": {},
     "output_type": "display_data"
    }
   ],
   "source": [
    "area=c(310,311,412,368,447,376,303,410,365,350)\n",
    "t.test(area,conf.level=0.95)"
   ]
  },
  {
   "attachments": {},
   "cell_type": "markdown",
   "metadata": {},
   "source": [
    "# Intervalo de confianza para **$\\sigma^2$**\n",
    "\n",
    "<img src=\"https://www.iconfinder.com/data/icons/data-analytics-sketchy/60/029_-_Variability_Chart-data-analytics-128.png\" width=80 height=80\\>\n",
    "\n",
    "Si el objetivo es hacer la estimación de la varianza el intervalo a construir es:\n",
    "\n",
    "$$LI=\\frac{(n-1)S^2}{\\chi^2_{n-1,\\alpha/2}} \\text{  ; } LS=\\frac{(n-1)S^2}{\\chi^2_{n-1,1-\\alpha/2}}$$\n",
    "con, $S^2$ la varianza muestral y $\\chi^2_{n-1,\\alpha/2}$ el cuantil de la distribución $Chi-cuadrado$ que acumula una probabilidad de $\\alpha/2$ a la derecha.\n",
    "\n",
    "para $t_{11,0.025}=-2.200985$ en R\n"
   ]
  },
  {
   "cell_type": "code",
   "execution_count": 27,
   "metadata": {},
   "outputs": [
    {
     "data": {
      "text/html": [
       "21.9200492610212"
      ],
      "text/latex": [
       "21.9200492610212"
      ],
      "text/markdown": [
       "21.9200492610212"
      ],
      "text/plain": [
       "[1] 21.92"
      ]
     },
     "metadata": {},
     "output_type": "display_data"
    },
    {
     "data": {
      "image/png": "[encoded data removed]",
      "text/plain": [
       "plot without title"
      ]
     },
     "metadata": {
      "image/png": {
       "height": 420,
       "width": 420
      }
     },
     "output_type": "display_data"
    }
   ],
   "source": [
    "qchisq(0.025,df=11,lower=F)\n",
    "library(mosaic)\n",
    "plotDist(\"chisq\", df = 11, groups = x > 21.92, type = \"h\",col=c(\"#B53114\",\"#1F516E\"))"
   ]
  },
  {
   "cell_type": "markdown",
   "metadata": {},
   "source": [
    "## Supuestos necesarios para construir el intervalo de confianza\n",
    "<img src=\"https://www.iconfinder.com/data/icons/unigrid-phantom-security-vol-2/60/013_081_stop_block_sign_hand_access_denied-128.png\" width=80 height=80\\>\n",
    "- La muestra es aleatoria simple\n",
    "\n",
    "- Los datos provienen de una población con distribución de probabilidad normal\n",
    "\n",
    "### Ejemplo 3\n",
    "<img src=\"https://www.iconfinder.com/data/icons/working-tools-2/64/x-05-128.png\" width=80 height=80\\>\n",
    "Un fabicante de baterías de automóvil afirma que sus baterías durarán, en promedio 3 años con una varianza de 1 año. Suponga que estas baterías tienen duraciones de 1.9, 2.4, 3.0, 3.5 y 4.2 años y con base en esto construya un intervalo de confianza  del $95\\%$ para $\\sigma^2$, despues decida si la afirmación del fabricante de que $\\sigma^2=1$ es válida. Suponga que la población de duraciones de las baterías se distribuye aproximadamente normal.\n",
    "\n"
   ]
  },
  {
   "cell_type": "code",
   "execution_count": 26,
   "metadata": {
    "scrolled": true
   },
   "outputs": [
    {
     "data": {
      "text/plain": [
       "\n",
       "\tChi-Squared Test on Variance\n",
       "\n",
       "data:  baterias\n",
       "Chi-Squared = 3.26, df = 4, p-value = 0.969\n",
       "alternative hypothesis: true variance is not equal to 1\n",
       "95 percent confidence interval:\n",
       " 0.292553 6.729717\n",
       "sample estimates:\n",
       "variance \n",
       "   0.815 \n"
      ]
     },
     "metadata": {},
     "output_type": "display_data"
    }
   ],
   "source": [
    "#install.packages(\"EnvStats\")\n",
    "library(EnvStats)\n",
    "baterias=c(1.9, 2.4, 3.0, 3.5,  4.2)\n",
    "varTest(baterias, conf.level = 0.95)"
   ]
  },
  {
   "cell_type": "markdown",
   "metadata": {},
   "source": [
    "## Ejercicios\n",
    "<img src=\"https://www.iconfinder.com/data/icons/online-education-indigo-vol-2/256/Homework-512.png\" width=110 height=110\\>\n",
    "\n",
    "**1.** En la industria farmacéutica la varianza en los pesos de los medicamentos es trascendental. Considere un medicamento cuyo peso está dado en gramos y una muestra de 18 unidades de este medicamento, la varianza muestral es $S^2=0.36$.\n",
    "\n",
    " - Dé un intervalo de $90\\%$ de confianza para estimar la varianza poblacional de los pesos\n",
    "de este medicamento. \n",
    "\n",
    " - Proporcione un intervalo de 90% de confianza para estimar la desviación estándar poblacional.\n",
    " \n",
    "**2.** \tA continuación, se presentan los precios de las rentas de un automóvil por día en ocho ciudades.\n",
    "\n",
    "| Ciudad | Renta de auto por días($) |\n",
    "|-|-|\n",
    "| Atlanta | 47 |\n",
    "| Chicago | 50 |\n",
    "| Dallas | 53 |\n",
    "| New Orleans | 45 |\n",
    "| Phoenix | 40 |\n",
    "| Pittsburg | 43 |\n",
    "| San Francisco | 39 |\n",
    "| Seattle | 37 |\n",
    "\n",
    " -\tCalcule la varianza y la desviación estándar de estos datos.\n",
    " -\tDé la estimación por intervalo de confianza de 95% por día para la varianza poblacional de los precios de renta de un automóvil por día.\n",
    " -\tDé la estimación por intervalo de confianza de 95% para la desviación estándar poblacional.\n",
    " \n",
    "**3.** \tUn grupo de 12 analistas de seguridad proporcionó estimaciones, para el año 2001, de las ganancias por acción de Qualcomm, Inc. (Zacks.com, 13 de junio de 2000). Los datos son los siguientes: \n",
    "\n",
    "|1.40 |1.40 |1.45 |1.49 |1.37 |1.27 |1.40 |1.55 |1.40 |1.42 |1.48 |1.63|\n",
    "|-|-|-|-|-|-|-|-|-|-|-|-|\n",
    "||||||||||||||\n",
    "\n",
    " - Calcule la varianza muestral de las estimaciones de ganancia por acción.\n",
    " - Calcule la desviación estándar muestral de las estimaciones de ganancia por acción.\n",
    " - Dé una estimación por intervalo de confianza de 95% para la varianza poblacional y para la desviación estándar poblacional.\n",
    "\n",
    "**4.** En un estudio de la infestación de\n",
    "la langosta Thenus orientalis por dos tipos de lapas,\n",
    "Octolasmis tridens y O. lowei, se midieron las longitudes\n",
    "del caparazón (en milímetros) de 10 langostas seleccionadas\n",
    "al azar pescadas en los mares cerca de Singapur.\n",
    "\n",
    "|78| 66| 65| 63| 60| 60| 58| 56| 52 |50|\n",
    "|-|-|-|-|-|-|-|-|-|-|\n",
    "|||||||||||\n",
    "\n",
    "Encuentre un intervalo de confi anza de $95\\%$ para la\n",
    "longitud media del caparazón de langostas T. orientalis.\n",
    "\n",
    "**5.** Revisar en R y en tablas la distribución F, lectura e interpretación."
   ]
  }
 ],
 "metadata": {
  "kernelspec": {
   "display_name": "R",
   "language": "R",
   "name": "ir"
  },
  "language_info": {
   "codemirror_mode": "r",
   "file_extension": ".r",
   "mimetype": "text/x-r-source",
   "name": "R",
   "pygments_lexer": "r",
   "version": "4.0.2"
  },
  "latex_envs": {
   "LaTeX_envs_menu_present": true,
   "autoclose": false,
   "autocomplete": true,
   "bibliofile": "biblio.bib",
   "cite_by": "apalike",
   "current_citInitial": 1,
   "eqLabelWithNumbers": true,
   "eqNumInitial": 1,
   "hotkeys": {
    "equation": "Ctrl-E",
    "itemize": "Ctrl-I"
   },
   "labels_anchors": false,
   "latex_user_defs": false,
   "report_style_numbering": false,
   "user_envs_cfg": false
  },
  "varInspector": {
   "cols": {
    "lenName": 16,
    "lenType": 16,
    "lenVar": 40
   },
   "kernels_config": {
    "python": {
     "delete_cmd_postfix": "",
     "delete_cmd_prefix": "del ",
     "library": "var_list.py",
     "varRefreshCmd": "print(var_dic_list())"
    },
    "r": {
     "delete_cmd_postfix": ") ",
     "delete_cmd_prefix": "rm(",
     "library": "var_list.r",
     "varRefreshCmd": "cat(var_dic_list()) "
    }
   },
   "types_to_exclude": [
    "module",
    "function",
    "builtin_function_or_method",
    "instance",
    "_Feature"
   ],
   "window_display": false
  }
 },
 "nbformat": 4,
 "nbformat_minor": 4
}
