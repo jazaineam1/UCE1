{
 "cells": [
  {
   "cell_type": "markdown",
   "metadata": {},
   "source": [
    "# Distribuciones Muestrales\n",
    "\n",
    "\n",
    "Cuando se selecciona una muestra aleatoria de una población, las medidas numéricas\n",
    "descriptivas que se calculen de la muestra se denominan estadísticas. Las estadísticas varían o cambian para cada muestra aleatoria diferente que se escoja; esto es, son\n",
    "variables aleatorias. Las distribuciones de probabilidad para estadísticas se llaman distribuciones muestrales porque, en muestreos repetidos, dan esta información:\n",
    "\n",
    "- Qué valores de la estadística pueden presentarse\n",
    "- Con qué frecuencia se presenta cada valor\n",
    "\n",
    "La **distribución muestral de una estadística** es la distribución de probabilidad para los posibles valores de la estadística, que resulta cuando muestras aleatorias de tamaño *n* se sacan repetidamente de la población.\n",
    "\n",
    "\n"
   ]
  },
  {
   "cell_type": "markdown",
   "metadata": {},
   "source": [
    "## Ejemplo \n",
    "\n",
    "Deduciremos la distribución  de probabilidad del lanzamiento de un dado.\n",
    "sea $x$ la variable aleatoria: valor obtenido al lanzar un dado.\n",
    "\n",
    "| $x$    | 1   | 2   | 3   | 4   | 5   | 6   |\n",
    "|--------|-----|-----|-----|-----|-----|-----|\n",
    "| $P(x)$ | 1/6 | 1/6 | 1/6 | 1/6 | 1/6 | 1/6 |\n",
    "\n",
    "el gráfico de la distribución de probabilidad será:"
   ]
  },
  {
   "cell_type": "code",
   "execution_count": 37,
   "metadata": {
    "scrolled": true
   },
   "outputs": [
    {
     "data": {
      "image/png": "[encoded data removed]",
      "text/plain": [
       "Plot with title \"Gráfico de probabilidad de lanzamiento de un dado\""
      ]
     },
     "metadata": {
      "image/png": {
       "height": 420,
       "width": 420
      }
     },
     "output_type": "display_data"
    }
   ],
   "source": [
    "x=c(1,2,3,4,5,6)# incluir los valores de x con la función c()\n",
    "px=c(1/6,1/6,1/6,1/6,1/6,1/6)#incluir los valores de p(x) con la función c()\n",
    "names(px)=x # incluir los valores de x como nombres de las probabilidades\n",
    "barplot(px,ylim=c(0,0.5), col=\"red\",main=\"Gráfico de probabilidad de lanzamiento de un dado\")# gráfica de barras"
   ]
  },
  {
   "cell_type": "markdown",
   "metadata": {},
   "source": [
    "Realicemos el lanzaiento de 2 dados y encontremos su valor promedio"
   ]
  },
  {
   "cell_type": "code",
   "execution_count": 29,
   "metadata": {
    "scrolled": true
   },
   "outputs": [
    {
     "name": "stdout",
     "output_type": "stream",
     "text": [
      "[1] 4 6\n"
     ]
    },
    {
     "data": {
      "text/html": [
       "5"
      ],
      "text/latex": [
       "5"
      ],
      "text/markdown": [
       "5"
      ],
      "text/plain": [
       "[1] 5"
      ]
     },
     "metadata": {},
     "output_type": "display_data"
    }
   ],
   "source": [
    "dados2=sample(x,size=2,replace=T);print(dados2)# lanzamiento de 2 dados, los dados pueden tomar el mismo valor\n",
    "media= mean(dados2); media# calculo de promedio del lanzamiento de los 2 dados\n"
   ]
  },
  {
   "cell_type": "markdown",
   "metadata": {},
   "source": [
    "¿que sucede si se realiza el lanzamiento de los dados en muchas ocaciones, digamos 100?\n"
   ]
  },
  {
   "cell_type": "markdown",
   "metadata": {},
   "source": [
    "para esto identificaremos la función ```for ``` en R"
   ]
  },
  {
   "cell_type": "code",
   "execution_count": null,
   "metadata": {},
   "outputs": [],
   "source": [
    "for( i in 1:5){\n",
    "     print(i)\n",
    "}"
   ]
  },
  {
   "cell_type": "markdown",
   "metadata": {},
   "source": [
    "los valores son:\n",
    "- función ```for() ``` la cual es la identificación de un ciclo\n",
    "- valor ```i in inicio:fin``` indica desde donde inicia hasta donde termina el ciclo y cual es el valor de indexación\n",
    "- ```{ f(i) }``` función que será aplicada de manera ciclica"
   ]
  },
  {
   "cell_type": "code",
   "execution_count": 32,
   "metadata": {
    "collapsed": true
   },
   "outputs": [
    {
     "data": {
      "text/html": [
       "<table>\n",
       "<caption>A matrix: 10 × 2 of type dbl</caption>\n",
       "<tbody>\n",
       "\t<tr><td>4</td><td>2</td></tr>\n",
       "\t<tr><td>1</td><td>6</td></tr>\n",
       "\t<tr><td>5</td><td>4</td></tr>\n",
       "\t<tr><td>1</td><td>4</td></tr>\n",
       "\t<tr><td>3</td><td>6</td></tr>\n",
       "\t<tr><td>6</td><td>6</td></tr>\n",
       "\t<tr><td>6</td><td>3</td></tr>\n",
       "\t<tr><td>6</td><td>2</td></tr>\n",
       "\t<tr><td>4</td><td>5</td></tr>\n",
       "\t<tr><td>5</td><td>2</td></tr>\n",
       "</tbody>\n",
       "</table>\n"
      ],
      "text/latex": [
       "A matrix: 10 × 2 of type dbl\n",
       "\\begin{tabular}{ll}\n",
       "\t 4 & 2\\\\\n",
       "\t 1 & 6\\\\\n",
       "\t 5 & 4\\\\\n",
       "\t 1 & 4\\\\\n",
       "\t 3 & 6\\\\\n",
       "\t 6 & 6\\\\\n",
       "\t 6 & 3\\\\\n",
       "\t 6 & 2\\\\\n",
       "\t 4 & 5\\\\\n",
       "\t 5 & 2\\\\\n",
       "\\end{tabular}\n"
      ],
      "text/markdown": [
       "\n",
       "A matrix: 10 × 2 of type dbl\n",
       "\n",
       "| 4 | 2 |\n",
       "| 1 | 6 |\n",
       "| 5 | 4 |\n",
       "| 1 | 4 |\n",
       "| 3 | 6 |\n",
       "| 6 | 6 |\n",
       "| 6 | 3 |\n",
       "| 6 | 2 |\n",
       "| 4 | 5 |\n",
       "| 5 | 2 |\n",
       "\n"
      ],
      "text/plain": [
       "      [,1] [,2]\n",
       " [1,] 4    2   \n",
       " [2,] 1    6   \n",
       " [3,] 5    4   \n",
       " [4,] 1    4   \n",
       " [5,] 3    6   \n",
       " [6,] 6    6   \n",
       " [7,] 6    3   \n",
       " [8,] 6    2   \n",
       " [9,] 4    5   \n",
       "[10,] 5    2   "
      ]
     },
     "metadata": {},
     "output_type": "display_data"
    },
    {
     "data": {
      "text/html": [
       "<style>\n",
       ".list-inline {list-style: none; margin:0; padding: 0}\n",
       ".list-inline>li {display: inline-block}\n",
       ".list-inline>li:not(:last-child)::after {content: \"\\00b7\"; padding: 0 .5ex}\n",
       "</style>\n",
       "<ol class=list-inline><li>3</li><li>3.5</li><li>4.5</li><li>2.5</li><li>4.5</li><li>6</li><li>4.5</li><li>4</li><li>4.5</li><li>3.5</li></ol>\n"
      ],
      "text/latex": [
       "\\begin{enumerate*}\n",
       "\\item 3\n",
       "\\item 3.5\n",
       "\\item 4.5\n",
       "\\item 2.5\n",
       "\\item 4.5\n",
       "\\item 6\n",
       "\\item 4.5\n",
       "\\item 4\n",
       "\\item 4.5\n",
       "\\item 3.5\n",
       "\\end{enumerate*}\n"
      ],
      "text/markdown": [
       "1. 3\n",
       "2. 3.5\n",
       "3. 4.5\n",
       "4. 2.5\n",
       "5. 4.5\n",
       "6. 6\n",
       "7. 4.5\n",
       "8. 4\n",
       "9. 4.5\n",
       "10. 3.5\n",
       "\n",
       "\n"
      ],
      "text/plain": [
       " [1] 3.0 3.5 4.5 2.5 4.5 6.0 4.5 4.0 4.5 3.5"
      ]
     },
     "metadata": {},
     "output_type": "display_data"
    }
   ],
   "source": [
    "dados2si=matrix(,nr=10,nc=2)\n",
    "media=NULL\n",
    "for( i in 1:10){  \n",
    "    dados2si[i,]=sample(x,size=2,replace=T)\n",
    "    media[i]=mean(dados2si[i,])\n",
    "}\n",
    "dados2si\n",
    "media"
   ]
  },
  {
   "cell_type": "markdown",
   "metadata": {},
   "source": [
    "###  Ejercicio: realice la edición del código para realizar 100 simulaciones del lanzamiento de  3 dados."
   ]
  },
  {
   "cell_type": "code",
   "execution_count": 42,
   "metadata": {
    "collapsed": true
   },
   "outputs": [
    {
     "data": {
      "text/html": [
       "<table>\n",
       "<caption>A matrix: 100 × 3 of type dbl</caption>\n",
       "<tbody>\n",
       "\t<tr><td>5</td><td>5</td><td>3</td></tr>\n",
       "\t<tr><td>5</td><td>1</td><td>3</td></tr>\n",
       "\t<tr><td>1</td><td>6</td><td>2</td></tr>\n",
       "\t<tr><td>5</td><td>5</td><td>3</td></tr>\n",
       "\t<tr><td>3</td><td>3</td><td>3</td></tr>\n",
       "\t<tr><td>4</td><td>5</td><td>1</td></tr>\n",
       "\t<tr><td>4</td><td>6</td><td>1</td></tr>\n",
       "\t<tr><td>3</td><td>4</td><td>1</td></tr>\n",
       "\t<tr><td>6</td><td>1</td><td>6</td></tr>\n",
       "\t<tr><td>1</td><td>2</td><td>2</td></tr>\n",
       "\t<tr><td>6</td><td>3</td><td>2</td></tr>\n",
       "\t<tr><td>6</td><td>3</td><td>4</td></tr>\n",
       "\t<tr><td>6</td><td>1</td><td>6</td></tr>\n",
       "\t<tr><td>2</td><td>5</td><td>1</td></tr>\n",
       "\t<tr><td>1</td><td>5</td><td>1</td></tr>\n",
       "\t<tr><td>3</td><td>6</td><td>3</td></tr>\n",
       "\t<tr><td>2</td><td>5</td><td>6</td></tr>\n",
       "\t<tr><td>4</td><td>2</td><td>1</td></tr>\n",
       "\t<tr><td>1</td><td>6</td><td>4</td></tr>\n",
       "\t<tr><td>6</td><td>1</td><td>3</td></tr>\n",
       "\t<tr><td>3</td><td>6</td><td>5</td></tr>\n",
       "\t<tr><td>1</td><td>1</td><td>1</td></tr>\n",
       "\t<tr><td>6</td><td>4</td><td>6</td></tr>\n",
       "\t<tr><td>1</td><td>6</td><td>5</td></tr>\n",
       "\t<tr><td>2</td><td>6</td><td>2</td></tr>\n",
       "\t<tr><td>5</td><td>2</td><td>2</td></tr>\n",
       "\t<tr><td>6</td><td>2</td><td>1</td></tr>\n",
       "\t<tr><td>1</td><td>1</td><td>2</td></tr>\n",
       "\t<tr><td>4</td><td>3</td><td>6</td></tr>\n",
       "\t<tr><td>4</td><td>6</td><td>1</td></tr>\n",
       "\t<tr><td>...</td><td>...</td><td>...</td></tr>\n",
       "\t<tr><td>6</td><td>6</td><td>4</td></tr>\n",
       "\t<tr><td>5</td><td>4</td><td>3</td></tr>\n",
       "\t<tr><td>6</td><td>5</td><td>5</td></tr>\n",
       "\t<tr><td>5</td><td>5</td><td>5</td></tr>\n",
       "\t<tr><td>4</td><td>1</td><td>5</td></tr>\n",
       "\t<tr><td>4</td><td>6</td><td>2</td></tr>\n",
       "\t<tr><td>3</td><td>4</td><td>1</td></tr>\n",
       "\t<tr><td>5</td><td>5</td><td>6</td></tr>\n",
       "\t<tr><td>4</td><td>1</td><td>3</td></tr>\n",
       "\t<tr><td>5</td><td>6</td><td>3</td></tr>\n",
       "\t<tr><td>6</td><td>5</td><td>4</td></tr>\n",
       "\t<tr><td>5</td><td>3</td><td>3</td></tr>\n",
       "\t<tr><td>4</td><td>6</td><td>3</td></tr>\n",
       "\t<tr><td>1</td><td>2</td><td>4</td></tr>\n",
       "\t<tr><td>4</td><td>6</td><td>6</td></tr>\n",
       "\t<tr><td>2</td><td>6</td><td>4</td></tr>\n",
       "\t<tr><td>3</td><td>3</td><td>3</td></tr>\n",
       "\t<tr><td>3</td><td>6</td><td>5</td></tr>\n",
       "\t<tr><td>6</td><td>3</td><td>3</td></tr>\n",
       "\t<tr><td>4</td><td>4</td><td>3</td></tr>\n",
       "\t<tr><td>5</td><td>1</td><td>1</td></tr>\n",
       "\t<tr><td>6</td><td>5</td><td>6</td></tr>\n",
       "\t<tr><td>1</td><td>3</td><td>4</td></tr>\n",
       "\t<tr><td>2</td><td>6</td><td>1</td></tr>\n",
       "\t<tr><td>2</td><td>4</td><td>3</td></tr>\n",
       "\t<tr><td>2</td><td>5</td><td>4</td></tr>\n",
       "\t<tr><td>1</td><td>1</td><td>4</td></tr>\n",
       "\t<tr><td>4</td><td>2</td><td>5</td></tr>\n",
       "\t<tr><td>2</td><td>1</td><td>4</td></tr>\n",
       "\t<tr><td>3</td><td>5</td><td>6</td></tr>\n",
       "</tbody>\n",
       "</table>\n"
      ],
      "text/latex": [
       "A matrix: 100 × 3 of type dbl\n",
       "\\begin{tabular}{lll}\n",
       "\t 5 & 5 & 3\\\\\n",
       "\t 5 & 1 & 3\\\\\n",
       "\t 1 & 6 & 2\\\\\n",
       "\t 5 & 5 & 3\\\\\n",
       "\t 3 & 3 & 3\\\\\n",
       "\t 4 & 5 & 1\\\\\n",
       "\t 4 & 6 & 1\\\\\n",
       "\t 3 & 4 & 1\\\\\n",
       "\t 6 & 1 & 6\\\\\n",
       "\t 1 & 2 & 2\\\\\n",
       "\t 6 & 3 & 2\\\\\n",
       "\t 6 & 3 & 4\\\\\n",
       "\t 6 & 1 & 6\\\\\n",
       "\t 2 & 5 & 1\\\\\n",
       "\t 1 & 5 & 1\\\\\n",
       "\t 3 & 6 & 3\\\\\n",
       "\t 2 & 5 & 6\\\\\n",
       "\t 4 & 2 & 1\\\\\n",
       "\t 1 & 6 & 4\\\\\n",
       "\t 6 & 1 & 3\\\\\n",
       "\t 3 & 6 & 5\\\\\n",
       "\t 1 & 1 & 1\\\\\n",
       "\t 6 & 4 & 6\\\\\n",
       "\t 1 & 6 & 5\\\\\n",
       "\t 2 & 6 & 2\\\\\n",
       "\t 5 & 2 & 2\\\\\n",
       "\t 6 & 2 & 1\\\\\n",
       "\t 1 & 1 & 2\\\\\n",
       "\t 4 & 3 & 6\\\\\n",
       "\t 4 & 6 & 1\\\\\n",
       "\t ... & ... & ...\\\\\n",
       "\t 6 & 6 & 4\\\\\n",
       "\t 5 & 4 & 3\\\\\n",
       "\t 6 & 5 & 5\\\\\n",
       "\t 5 & 5 & 5\\\\\n",
       "\t 4 & 1 & 5\\\\\n",
       "\t 4 & 6 & 2\\\\\n",
       "\t 3 & 4 & 1\\\\\n",
       "\t 5 & 5 & 6\\\\\n",
       "\t 4 & 1 & 3\\\\\n",
       "\t 5 & 6 & 3\\\\\n",
       "\t 6 & 5 & 4\\\\\n",
       "\t 5 & 3 & 3\\\\\n",
       "\t 4 & 6 & 3\\\\\n",
       "\t 1 & 2 & 4\\\\\n",
       "\t 4 & 6 & 6\\\\\n",
       "\t 2 & 6 & 4\\\\\n",
       "\t 3 & 3 & 3\\\\\n",
       "\t 3 & 6 & 5\\\\\n",
       "\t 6 & 3 & 3\\\\\n",
       "\t 4 & 4 & 3\\\\\n",
       "\t 5 & 1 & 1\\\\\n",
       "\t 6 & 5 & 6\\\\\n",
       "\t 1 & 3 & 4\\\\\n",
       "\t 2 & 6 & 1\\\\\n",
       "\t 2 & 4 & 3\\\\\n",
       "\t 2 & 5 & 4\\\\\n",
       "\t 1 & 1 & 4\\\\\n",
       "\t 4 & 2 & 5\\\\\n",
       "\t 2 & 1 & 4\\\\\n",
       "\t 3 & 5 & 6\\\\\n",
       "\\end{tabular}\n"
      ],
      "text/markdown": [
       "\n",
       "A matrix: 100 × 3 of type dbl\n",
       "\n",
       "| 5 | 5 | 3 |\n",
       "| 5 | 1 | 3 |\n",
       "| 1 | 6 | 2 |\n",
       "| 5 | 5 | 3 |\n",
       "| 3 | 3 | 3 |\n",
       "| 4 | 5 | 1 |\n",
       "| 4 | 6 | 1 |\n",
       "| 3 | 4 | 1 |\n",
       "| 6 | 1 | 6 |\n",
       "| 1 | 2 | 2 |\n",
       "| 6 | 3 | 2 |\n",
       "| 6 | 3 | 4 |\n",
       "| 6 | 1 | 6 |\n",
       "| 2 | 5 | 1 |\n",
       "| 1 | 5 | 1 |\n",
       "| 3 | 6 | 3 |\n",
       "| 2 | 5 | 6 |\n",
       "| 4 | 2 | 1 |\n",
       "| 1 | 6 | 4 |\n",
       "| 6 | 1 | 3 |\n",
       "| 3 | 6 | 5 |\n",
       "| 1 | 1 | 1 |\n",
       "| 6 | 4 | 6 |\n",
       "| 1 | 6 | 5 |\n",
       "| 2 | 6 | 2 |\n",
       "| 5 | 2 | 2 |\n",
       "| 6 | 2 | 1 |\n",
       "| 1 | 1 | 2 |\n",
       "| 4 | 3 | 6 |\n",
       "| 4 | 6 | 1 |\n",
       "| ... | ... | ... |\n",
       "| 6 | 6 | 4 |\n",
       "| 5 | 4 | 3 |\n",
       "| 6 | 5 | 5 |\n",
       "| 5 | 5 | 5 |\n",
       "| 4 | 1 | 5 |\n",
       "| 4 | 6 | 2 |\n",
       "| 3 | 4 | 1 |\n",
       "| 5 | 5 | 6 |\n",
       "| 4 | 1 | 3 |\n",
       "| 5 | 6 | 3 |\n",
       "| 6 | 5 | 4 |\n",
       "| 5 | 3 | 3 |\n",
       "| 4 | 6 | 3 |\n",
       "| 1 | 2 | 4 |\n",
       "| 4 | 6 | 6 |\n",
       "| 2 | 6 | 4 |\n",
       "| 3 | 3 | 3 |\n",
       "| 3 | 6 | 5 |\n",
       "| 6 | 3 | 3 |\n",
       "| 4 | 4 | 3 |\n",
       "| 5 | 1 | 1 |\n",
       "| 6 | 5 | 6 |\n",
       "| 1 | 3 | 4 |\n",
       "| 2 | 6 | 1 |\n",
       "| 2 | 4 | 3 |\n",
       "| 2 | 5 | 4 |\n",
       "| 1 | 1 | 4 |\n",
       "| 4 | 2 | 5 |\n",
       "| 2 | 1 | 4 |\n",
       "| 3 | 5 | 6 |\n",
       "\n"
      ],
      "text/plain": [
       "      [,1] [,2] [,3]\n",
       " [1,] 5    5    3   \n",
       " [2,] 5    1    3   \n",
       " [3,] 1    6    2   \n",
       " [4,] 5    5    3   \n",
       " [5,] 3    3    3   \n",
       " [6,] 4    5    1   \n",
       " [7,] 4    6    1   \n",
       " [8,] 3    4    1   \n",
       " [9,] 6    1    6   \n",
       "[10,] 1    2    2   \n",
       "[11,] 6    3    2   \n",
       "[12,] 6    3    4   \n",
       "[13,] 6    1    6   \n",
       "[14,] 2    5    1   \n",
       "[15,] 1    5    1   \n",
       "[16,] 3    6    3   \n",
       "[17,] 2    5    6   \n",
       "[18,] 4    2    1   \n",
       "[19,] 1    6    4   \n",
       "[20,] 6    1    3   \n",
       "[21,] 3    6    5   \n",
       "[22,] 1    1    1   \n",
       "[23,] 6    4    6   \n",
       "[24,] 1    6    5   \n",
       "[25,] 2    6    2   \n",
       "[26,] 5    2    2   \n",
       "[27,] 6    2    1   \n",
       "[28,] 1    1    2   \n",
       "[29,] 4    3    6   \n",
       "[30,] 4    6    1   \n",
       "[31,] ...  ...  ... \n",
       "[32,] 6    6    4   \n",
       "[33,] 5    4    3   \n",
       "[34,] 6    5    5   \n",
       "[35,] 5    5    5   \n",
       "[36,] 4    1    5   \n",
       "[37,] 4    6    2   \n",
       "[38,] 3    4    1   \n",
       "[39,] 5    5    6   \n",
       "[40,] 4    1    3   \n",
       "[41,] 5    6    3   \n",
       "[42,] 6    5    4   \n",
       "[43,] 5    3    3   \n",
       "[44,] 4    6    3   \n",
       "[45,] 1    2    4   \n",
       "[46,] 4    6    6   \n",
       "[47,] 2    6    4   \n",
       "[48,] 3    3    3   \n",
       "[49,] 3    6    5   \n",
       "[50,] 6    3    3   \n",
       "[51,] 4    4    3   \n",
       "[52,] 5    1    1   \n",
       "[53,] 6    5    6   \n",
       "[54,] 1    3    4   \n",
       "[55,] 2    6    1   \n",
       "[56,] 2    4    3   \n",
       "[57,] 2    5    4   \n",
       "[58,] 1    1    4   \n",
       "[59,] 4    2    5   \n",
       "[60,] 2    1    4   \n",
       "[61,] 3    5    6   "
      ]
     },
     "metadata": {},
     "output_type": "display_data"
    },
    {
     "data": {
      "text/html": [
       "<style>\n",
       ".list-inline {list-style: none; margin:0; padding: 0}\n",
       ".list-inline>li {display: inline-block}\n",
       ".list-inline>li:not(:last-child)::after {content: \"\\00b7\"; padding: 0 .5ex}\n",
       "</style>\n",
       "<ol class=list-inline><li>4.33333333333333</li><li>3</li><li>3</li><li>4.33333333333333</li><li>3</li><li>3.33333333333333</li><li>3.66666666666667</li><li>2.66666666666667</li><li>4.33333333333333</li><li>1.66666666666667</li><li>3.66666666666667</li><li>4.33333333333333</li><li>4.33333333333333</li><li>2.66666666666667</li><li>2.33333333333333</li><li>4</li><li>4.33333333333333</li><li>2.33333333333333</li><li>3.66666666666667</li><li>3.33333333333333</li><li>4.66666666666667</li><li>1</li><li>5.33333333333333</li><li>4</li><li>3.33333333333333</li><li>3</li><li>3</li><li>1.33333333333333</li><li>4.33333333333333</li><li>3.66666666666667</li><li>2.33333333333333</li><li>4.33333333333333</li><li>2.66666666666667</li><li>4.66666666666667</li><li>5.33333333333333</li><li>3</li><li>4</li><li>5.66666666666667</li><li>1.66666666666667</li><li>2</li><li>4.33333333333333</li><li>1.66666666666667</li><li>1.66666666666667</li><li>3.33333333333333</li><li>1.33333333333333</li><li>3</li><li>2</li><li>2.33333333333333</li><li>4.66666666666667</li><li>3.33333333333333</li><li>3.33333333333333</li><li>4</li><li>3</li><li>2.66666666666667</li><li>2</li><li>4.33333333333333</li><li>4.66666666666667</li><li>2.66666666666667</li><li>2.33333333333333</li><li>2.33333333333333</li><li>3.33333333333333</li><li>4</li><li>4</li><li>3.33333333333333</li><li>4</li><li>4.33333333333333</li><li>3.66666666666667</li><li>4.33333333333333</li><li>4</li><li>5.66666666666667</li><li>5.33333333333333</li><li>4</li><li>5.33333333333333</li><li>5</li><li>3.33333333333333</li><li>4</li><li>2.66666666666667</li><li>5.33333333333333</li><li>2.66666666666667</li><li>4.66666666666667</li><li>5</li><li>3.66666666666667</li><li>4.33333333333333</li><li>2.33333333333333</li><li>5.33333333333333</li><li>4</li><li>3</li><li>4.66666666666667</li><li>4</li><li>3.66666666666667</li><li>2.33333333333333</li><li>5.66666666666667</li><li>2.66666666666667</li><li>3</li><li>3</li><li>3.66666666666667</li><li>2</li><li>3.66666666666667</li><li>2.33333333333333</li><li>4.66666666666667</li></ol>\n"
      ],
      "text/latex": [
       "\\begin{enumerate*}\n",
       "\\item 4.33333333333333\n",
       "\\item 3\n",
       "\\item 3\n",
       "\\item 4.33333333333333\n",
       "\\item 3\n",
       "\\item 3.33333333333333\n",
       "\\item 3.66666666666667\n",
       "\\item 2.66666666666667\n",
       "\\item 4.33333333333333\n",
       "\\item 1.66666666666667\n",
       "\\item 3.66666666666667\n",
       "\\item 4.33333333333333\n",
       "\\item 4.33333333333333\n",
       "\\item 2.66666666666667\n",
       "\\item 2.33333333333333\n",
       "\\item 4\n",
       "\\item 4.33333333333333\n",
       "\\item 2.33333333333333\n",
       "\\item 3.66666666666667\n",
       "\\item 3.33333333333333\n",
       "\\item 4.66666666666667\n",
       "\\item 1\n",
       "\\item 5.33333333333333\n",
       "\\item 4\n",
       "\\item 3.33333333333333\n",
       "\\item 3\n",
       "\\item 3\n",
       "\\item 1.33333333333333\n",
       "\\item 4.33333333333333\n",
       "\\item 3.66666666666667\n",
       "\\item 2.33333333333333\n",
       "\\item 4.33333333333333\n",
       "\\item 2.66666666666667\n",
       "\\item 4.66666666666667\n",
       "\\item 5.33333333333333\n",
       "\\item 3\n",
       "\\item 4\n",
       "\\item 5.66666666666667\n",
       "\\item 1.66666666666667\n",
       "\\item 2\n",
       "\\item 4.33333333333333\n",
       "\\item 1.66666666666667\n",
       "\\item 1.66666666666667\n",
       "\\item 3.33333333333333\n",
       "\\item 1.33333333333333\n",
       "\\item 3\n",
       "\\item 2\n",
       "\\item 2.33333333333333\n",
       "\\item 4.66666666666667\n",
       "\\item 3.33333333333333\n",
       "\\item 3.33333333333333\n",
       "\\item 4\n",
       "\\item 3\n",
       "\\item 2.66666666666667\n",
       "\\item 2\n",
       "\\item 4.33333333333333\n",
       "\\item 4.66666666666667\n",
       "\\item 2.66666666666667\n",
       "\\item 2.33333333333333\n",
       "\\item 2.33333333333333\n",
       "\\item 3.33333333333333\n",
       "\\item 4\n",
       "\\item 4\n",
       "\\item 3.33333333333333\n",
       "\\item 4\n",
       "\\item 4.33333333333333\n",
       "\\item 3.66666666666667\n",
       "\\item 4.33333333333333\n",
       "\\item 4\n",
       "\\item 5.66666666666667\n",
       "\\item 5.33333333333333\n",
       "\\item 4\n",
       "\\item 5.33333333333333\n",
       "\\item 5\n",
       "\\item 3.33333333333333\n",
       "\\item 4\n",
       "\\item 2.66666666666667\n",
       "\\item 5.33333333333333\n",
       "\\item 2.66666666666667\n",
       "\\item 4.66666666666667\n",
       "\\item 5\n",
       "\\item 3.66666666666667\n",
       "\\item 4.33333333333333\n",
       "\\item 2.33333333333333\n",
       "\\item 5.33333333333333\n",
       "\\item 4\n",
       "\\item 3\n",
       "\\item 4.66666666666667\n",
       "\\item 4\n",
       "\\item 3.66666666666667\n",
       "\\item 2.33333333333333\n",
       "\\item 5.66666666666667\n",
       "\\item 2.66666666666667\n",
       "\\item 3\n",
       "\\item 3\n",
       "\\item 3.66666666666667\n",
       "\\item 2\n",
       "\\item 3.66666666666667\n",
       "\\item 2.33333333333333\n",
       "\\item 4.66666666666667\n",
       "\\end{enumerate*}\n"
      ],
      "text/markdown": [
       "1. 4.33333333333333\n",
       "2. 3\n",
       "3. 3\n",
       "4. 4.33333333333333\n",
       "5. 3\n",
       "6. 3.33333333333333\n",
       "7. 3.66666666666667\n",
       "8. 2.66666666666667\n",
       "9. 4.33333333333333\n",
       "10. 1.66666666666667\n",
       "11. 3.66666666666667\n",
       "12. 4.33333333333333\n",
       "13. 4.33333333333333\n",
       "14. 2.66666666666667\n",
       "15. 2.33333333333333\n",
       "16. 4\n",
       "17. 4.33333333333333\n",
       "18. 2.33333333333333\n",
       "19. 3.66666666666667\n",
       "20. 3.33333333333333\n",
       "21. 4.66666666666667\n",
       "22. 1\n",
       "23. 5.33333333333333\n",
       "24. 4\n",
       "25. 3.33333333333333\n",
       "26. 3\n",
       "27. 3\n",
       "28. 1.33333333333333\n",
       "29. 4.33333333333333\n",
       "30. 3.66666666666667\n",
       "31. 2.33333333333333\n",
       "32. 4.33333333333333\n",
       "33. 2.66666666666667\n",
       "34. 4.66666666666667\n",
       "35. 5.33333333333333\n",
       "36. 3\n",
       "37. 4\n",
       "38. 5.66666666666667\n",
       "39. 1.66666666666667\n",
       "40. 2\n",
       "41. 4.33333333333333\n",
       "42. 1.66666666666667\n",
       "43. 1.66666666666667\n",
       "44. 3.33333333333333\n",
       "45. 1.33333333333333\n",
       "46. 3\n",
       "47. 2\n",
       "48. 2.33333333333333\n",
       "49. 4.66666666666667\n",
       "50. 3.33333333333333\n",
       "51. 3.33333333333333\n",
       "52. 4\n",
       "53. 3\n",
       "54. 2.66666666666667\n",
       "55. 2\n",
       "56. 4.33333333333333\n",
       "57. 4.66666666666667\n",
       "58. 2.66666666666667\n",
       "59. 2.33333333333333\n",
       "60. 2.33333333333333\n",
       "61. 3.33333333333333\n",
       "62. 4\n",
       "63. 4\n",
       "64. 3.33333333333333\n",
       "65. 4\n",
       "66. 4.33333333333333\n",
       "67. 3.66666666666667\n",
       "68. 4.33333333333333\n",
       "69. 4\n",
       "70. 5.66666666666667\n",
       "71. 5.33333333333333\n",
       "72. 4\n",
       "73. 5.33333333333333\n",
       "74. 5\n",
       "75. 3.33333333333333\n",
       "76. 4\n",
       "77. 2.66666666666667\n",
       "78. 5.33333333333333\n",
       "79. 2.66666666666667\n",
       "80. 4.66666666666667\n",
       "81. 5\n",
       "82. 3.66666666666667\n",
       "83. 4.33333333333333\n",
       "84. 2.33333333333333\n",
       "85. 5.33333333333333\n",
       "86. 4\n",
       "87. 3\n",
       "88. 4.66666666666667\n",
       "89. 4\n",
       "90. 3.66666666666667\n",
       "91. 2.33333333333333\n",
       "92. 5.66666666666667\n",
       "93. 2.66666666666667\n",
       "94. 3\n",
       "95. 3\n",
       "96. 3.66666666666667\n",
       "97. 2\n",
       "98. 3.66666666666667\n",
       "99. 2.33333333333333\n",
       "100. 4.66666666666667\n",
       "\n",
       "\n"
      ],
      "text/plain": [
       "  [1] 4.333333 3.000000 3.000000 4.333333 3.000000 3.333333 3.666667 2.666667\n",
       "  [9] 4.333333 1.666667 3.666667 4.333333 4.333333 2.666667 2.333333 4.000000\n",
       " [17] 4.333333 2.333333 3.666667 3.333333 4.666667 1.000000 5.333333 4.000000\n",
       " [25] 3.333333 3.000000 3.000000 1.333333 4.333333 3.666667 2.333333 4.333333\n",
       " [33] 2.666667 4.666667 5.333333 3.000000 4.000000 5.666667 1.666667 2.000000\n",
       " [41] 4.333333 1.666667 1.666667 3.333333 1.333333 3.000000 2.000000 2.333333\n",
       " [49] 4.666667 3.333333 3.333333 4.000000 3.000000 2.666667 2.000000 4.333333\n",
       " [57] 4.666667 2.666667 2.333333 2.333333 3.333333 4.000000 4.000000 3.333333\n",
       " [65] 4.000000 4.333333 3.666667 4.333333 4.000000 5.666667 5.333333 4.000000\n",
       " [73] 5.333333 5.000000 3.333333 4.000000 2.666667 5.333333 2.666667 4.666667\n",
       " [81] 5.000000 3.666667 4.333333 2.333333 5.333333 4.000000 3.000000 4.666667\n",
       " [89] 4.000000 3.666667 2.333333 5.666667 2.666667 3.000000 3.000000 3.666667\n",
       " [97] 2.000000 3.666667 2.333333 4.666667"
      ]
     },
     "metadata": {},
     "output_type": "display_data"
    }
   ],
   "source": [
    "dados2si=matrix(,nr=100,nc=3)\n",
    "media=NULL\n",
    "for( i in 1:100){  \n",
    "    dados2si[i,]=sample(x,size=3,replace=T)\n",
    "    media[i]=mean(dados2si[i,])\n",
    "}\n",
    "dados2si\n",
    "media"
   ]
  },
  {
   "cell_type": "code",
   "execution_count": 43,
   "metadata": {
    "collapsed": true
   },
   "outputs": [
    {
     "data": {
      "image/png": "[encoded data removed]",
      "text/plain": [
       "Plot with title \"Histograma de promedio\""
      ]
     },
     "metadata": {
      "image/png": {
       "height": 420,
       "width": 420
      }
     },
     "output_type": "display_data"
    }
   ],
   "source": [
    "\n",
    "hist(media,main = \"Histograma de promedio\",col=\"darkblue\",freq = F)# realizar el histograma con valores simulados"
   ]
  },
  {
   "cell_type": "markdown",
   "metadata": {},
   "source": [
    "## Teorema del Límite Central\n",
    "\n",
    "Si muestras aleatorias de *n* observaciones se sacan de una población no normal con\n",
    "media finita $\\mu$ y desviación estándar $\\sigma$, entonces, cuando *n* es grande, la distribución de\n",
    "muestreo de la media muestral $\\bar{x}$  está distribuida normalmente en forma aproximada, con media $\\mu$ y desviación estándar $\\frac{\\sigma}{\\sqrt{n}}$.\n",
    "\n",
    " La aproximación se hace más precisa cuando n se hace grande."
   ]
  },
  {
   "cell_type": "markdown",
   "metadata": {},
   "source": [
    "### ¿CÓMO DETERMINO CUÁNDO EL TAMAÑO MUESTRAL ES LO SUFICIENTE GRANDE?\n",
    "- Si la población muestreada es normal, entonces la distribución muestral de x  también será normal, sin importar cuál sea el tamaño de la muestra que se escoja. Este resultado se puede demostrar en forma teórica, pero no debe ser demasiado \n",
    "difícil aceptarla sin prueba.\n",
    "-  Cuando la población muestreada es aproximadamente simétrica, la distribución muestral de x  se hace también aproximadamente normal para valores relativamente pequeños de *n*. Recuerde la rapidez con la que la distribución “plana” del ejemplo de los dados tomó la forma de montículo *(n=3)*.\n",
    "- Cuando la población muestreada está sesgada, el tamaño muestral *n* debe ser más grande, con *n* al menos 30 antes que la distribución muestral de *x*  se haga aproximadamente normal"
   ]
  },
  {
   "cell_type": "markdown",
   "metadata": {},
   "source": [
    "##  LA DISTRIBUCIÓN MUESTRAL DE LA MEDIA MUESTRAL $(\\bar{x})$.\n",
    "\n",
    "Si una muestra aleatoria de *n* mediciones se selecciona de una población con media $\\mu$ y desviación estándar $\\sigma$, la distribución muestral de la media muestral $\\bar{x}$  tendrá media $\\mu$ y desviación estándar $\\frac{\\sigma}{\\sqrt{n}}$.\n",
    "\n",
    "Si la población tiene una distribución normal, la distribución muestral de $\\bar{x}$  estará\n",
    "exactamente distribuida en forma normal, cualquiera que sea el tamaño muestral\n",
    "*n*.\n",
    "\n",
    "Si la distribución poblacional es no normal, la distribución muestral de $\\bar{x}  estará distribuida normalmente en forma aproximada para muestras grandes (por el teorema del límite central).\n",
    "\n",
    "### Error estándar\n",
    "\n",
    "La desviación estándar de una estadística empleada como estimador de un parámetro poblacional también se denomina error estándar del estimador (abreviado SE) porque se refiere a la precisión denomina. Por tanto, la desviación estándar de $\\bar{x}$\n",
    ", dada por $\\frac{\\sigma}{\\sqrt{n}}$ , se conoce como error estándar de la media (abreviada SE($\\bar{x}$) o\n",
    "sólo SE)."
   ]
  },
  {
   "cell_type": "markdown",
   "metadata": {},
   "source": [
    "### Ejemplo \n",
    "\n",
    "La duración de la enfermedad de Alzheimer desde el principio de síntomas hasta el fallecimiento varía de 3 a 20 años; el promedio es 8 años con una desviación estándar de 4\n",
    "años. El administrador de un gran centro médico al azar selecciona los registros médicos\n",
    "de 30 pacientes de Alzheimer ya fallecidos, de la base de datos del centro médico y anota\n",
    "la duración promedio. Encuentre las probabilidades aproximadas para estos eventos:\n",
    "\n",
    "1. La duración promedio es menor a 7 años.\n",
    "2. La duración promedio excede de 7 años.\n",
    "3. La duración promedio está a no más de 1 año de la media poblacional m  8"
   ]
  }
 ],
 "metadata": {
  "kernelspec": {
   "display_name": "R",
   "language": "R",
   "name": "ir"
  },
  "language_info": {
   "codemirror_mode": "r",
   "file_extension": ".r",
   "mimetype": "text/x-r-source",
   "name": "R",
   "pygments_lexer": "r",
   "version": "4.0.2"
  },
  "latex_envs": {
   "LaTeX_envs_menu_present": true,
   "autoclose": false,
   "autocomplete": true,
   "bibliofile": "biblio.bib",
   "cite_by": "apalike",
   "current_citInitial": 1,
   "eqLabelWithNumbers": true,
   "eqNumInitial": 1,
   "hotkeys": {
    "equation": "Ctrl-E",
    "itemize": "Ctrl-I"
   },
   "labels_anchors": false,
   "latex_user_defs": false,
   "report_style_numbering": false,
   "user_envs_cfg": false
  },
  "varInspector": {
   "cols": {
    "lenName": 16,
    "lenType": 16,
    "lenVar": 40
   },
   "kernels_config": {
    "python": {
     "delete_cmd_postfix": "",
     "delete_cmd_prefix": "del ",
     "library": "var_list.py",
     "varRefreshCmd": "print(var_dic_list())"
    },
    "r": {
     "delete_cmd_postfix": ") ",
     "delete_cmd_prefix": "rm(",
     "library": "var_list.r",
     "varRefreshCmd": "cat(var_dic_list()) "
    }
   },
   "types_to_exclude": [
    "module",
    "function",
    "builtin_function_or_method",
    "instance",
    "_Feature"
   ],
   "window_display": false
  }
 },
 "nbformat": 4,
 "nbformat_minor": 4
}
