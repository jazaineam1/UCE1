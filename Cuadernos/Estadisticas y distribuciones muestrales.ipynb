{
 "cells": [
  {
   "cell_type": "markdown",
   "metadata": {},
   "source": [
    "# Distribuciones Muestrales\n",
    "\n",
    "\n",
    "Cuando se selecciona una muestra aleatoria de una población, las medidas numéricas\n",
    "descriptivas que se calculen de la muestra se denominan estadísticas. Las estadísticas varían o cambian para cada muestra aleatoria diferente que se escoja; esto es, son\n",
    "variables aleatorias. Las distribuciones de probabilidad para estadísticas se llaman distribuciones muestrales porque, en muestreos repetidos, dan esta información:\n",
    "\n",
    "- Qué valores de la estadística pueden presentarse\n",
    "- Con qué frecuencia se presenta cada valor\n",
    "\n",
    "La **distribución muestral de una estadística** es la distribución de probabilidad para los posibles valores de la estadística, que resulta cuando muestras aleatorias de tamaño *n* se sacan repetidamente de la población.\n",
    "\n",
    "\n"
   ]
  },
  {
   "cell_type": "markdown",
   "metadata": {},
   "source": [
    "## Ejemplo \n",
    "\n",
    "Deduciremos la distribución  de probabilidad del lanzamiento de un dado.\n",
    "sea $x$ la variable aleatoria: valor obtenido al lanzar un dado.\n",
    "\n",
    "| $x$    | 1   | 2   | 3   | 4   | 5   | 6   |\n",
    "|--------|-----|-----|-----|-----|-----|-----|\n",
    "| $P(x)$ | 1/6 | 1/6 | 1/6 | 1/6 | 1/6 | 1/6 |\n",
    "\n",
    "el gráfico de la distribución de probabilidad será:"
   ]
  },
  {
   "cell_type": "code",
   "execution_count": null,
   "metadata": {
    "scrolled": true
   },
   "outputs": [],
   "source": [
    "x=c(1,2,3,4,5,6)# incluir los valores de x con la función c()\n",
    "px=c(1/6,1/6,1/6,1/6,1/6,1/6)#incluir los valores de p(x) con la función c()\n",
    "names(px)=x # incluir los valores de x como nombres de las probabilidades\n",
    "barplot(px,ylim=c(0,0.5), col=\"red\",main=\"Gráfico de probabilidad de lanzamiento de un dado\")# gráfica de barras"
   ]
  },
  {
   "cell_type": "markdown",
   "metadata": {},
   "source": [
    "Realicemos el lanzaiento de 2 dados y encontremos su valor promedio"
   ]
  },
  {
   "cell_type": "code",
   "execution_count": null,
   "metadata": {
    "scrolled": true
   },
   "outputs": [],
   "source": [
    "dados2=sample(x,size=2,replace=T);print(dados2)# lanzamiento de 2 dados, los dados pueden tomar el mismo valor\n",
    "media= mean(dados2); media# calculo de promedio del lanzamiento de los 2 dados\n"
   ]
  },
  {
   "cell_type": "markdown",
   "metadata": {},
   "source": [
    "¿que sucede si se realiza el lanzamiento de los dados en muchas ocaciones, digamos 100?\n"
   ]
  },
  {
   "cell_type": "markdown",
   "metadata": {},
   "source": [
    "para esto identificaremos la función ```for ``` en R"
   ]
  },
  {
   "cell_type": "code",
   "execution_count": null,
   "metadata": {},
   "outputs": [],
   "source": [
    "for( i in 1:5){\n",
    "     print(i)\n",
    "}"
   ]
  },
  {
   "cell_type": "markdown",
   "metadata": {},
   "source": [
    "los valores son:\n",
    "- función ```for() ``` la cual es la identificación de un ciclo\n",
    "- valor ```i in inicio:fin``` indica desde donde inicia hasta donde termina el ciclo y cual es el valor de indexación\n",
    "- ```{ f(i) }``` función que será aplicada de manera ciclica"
   ]
  },
  {
   "cell_type": "code",
   "execution_count": null,
   "metadata": {},
   "outputs": [],
   "source": [
    "dados2si=matrix(,nr=10,nc=2)\n",
    "media=NULL\n",
    "for( i in 1:10){  \n",
    "    dados2si[i,]=sample(x,size=2,replace=T)\n",
    "    media[i]=mean(dados2si[i,])\n",
    "}\n",
    "dados2si\n",
    "media"
   ]
  },
  {
   "cell_type": "markdown",
   "metadata": {},
   "source": [
    "###  Ejercicio: realice la edición del código para realizar 100 simulaciones del lanzamiento de  3 dados."
   ]
  },
  {
   "cell_type": "code",
   "execution_count": null,
   "metadata": {},
   "outputs": [],
   "source": [
    "dados2si=matrix(,nr=100,nc=3)\n",
    "media=NULL\n",
    "for( i in 1:100){  \n",
    "    dados2si[i,]=sample(x,size=3,replace=T)\n",
    "    media[i]=mean(dados2si[i,])\n",
    "}\n",
    "dados2si\n",
    "media"
   ]
  },
  {
   "cell_type": "code",
   "execution_count": null,
   "metadata": {},
   "outputs": [],
   "source": [
    "\n",
    "hist(media,main = \"Histograma de promedio\",col=\"darkblue\",freq = F)# realizar el histograma con valores simulados"
   ]
  },
  {
   "cell_type": "markdown",
   "metadata": {},
   "source": [
    "## Teorema del Límite Central\n",
    "\n",
    "Si muestras aleatorias de *n* observaciones se sacan de una población no normal con\n",
    "media finita $\\mu$ y desviación estándar $\\sigma$, entonces, cuando *n* es grande, la distribución de\n",
    "muestreo de la media muestral $\\bar{x}$  está distribuida normalmente en forma aproximada, con media $\\mu$ y desviación estándar $\\frac{\\sigma}{\\sqrt{n}}$.\n",
    "\n",
    " La aproximación se hace más precisa cuando n se hace grande."
   ]
  },
  {
   "cell_type": "markdown",
   "metadata": {},
   "source": [
    "### ¿CÓMO DETERMINO CUÁNDO EL TAMAÑO MUESTRAL ES LO SUFICIENTE GRANDE?\n",
    "- Si la población muestreada es normal, entonces la distribución muestral de x  también será normal, sin importar cuál sea el tamaño de la muestra que se escoja. Este resultado se puede demostrar en forma teórica, pero no debe ser demasiado \n",
    "difícil aceptarla sin prueba.\n",
    "-  Cuando la población muestreada es aproximadamente simétrica, la distribución muestral de x  se hace también aproximadamente normal para valores relativamente pequeños de *n*. Recuerde la rapidez con la que la distribución “plana” del ejemplo de los dados tomó la forma de montículo *(n=3)*.\n",
    "- Cuando la población muestreada está sesgada, el tamaño muestral *n* debe ser más grande, con *n* al menos 30 antes que la distribución muestral de *x*  se haga aproximadamente normal"
   ]
  },
  {
   "cell_type": "markdown",
   "metadata": {},
   "source": [
    "##  LA DISTRIBUCIÓN MUESTRAL DE LA MEDIA MUESTRAL $(\\bar{x})$.\n",
    "\n",
    "Si una muestra aleatoria de *n* mediciones se selecciona de una población con media $\\mu$ y desviación estándar $\\sigma$, la distribución muestral de la media muestral $\\bar{x}$  tendrá media $\\mu$ y desviación estándar $\\frac{\\sigma}{\\sqrt{n}}$.\n",
    "\n",
    "Si la población tiene una distribución normal, la distribución muestral de $\\bar{x}$  estará\n",
    "exactamente distribuida en forma normal, cualquiera que sea el tamaño muestral\n",
    "*n*.\n",
    "\n",
    "Si la distribución poblacional es no normal, la distribución muestral de $\\bar{x}  estará distribuida normalmente en forma aproximada para muestras grandes (por el teorema del límite central).\n",
    "\n",
    "### Error estándar\n",
    "\n",
    "La desviación estándar de una estadística empleada como estimador de un parámetro poblacional también se denomina error estándar del estimador (abreviado SE) porque se refiere a la precisión denomina. Por tanto, la desviación estándar de $\\bar{x}$\n",
    ", dada por $\\frac{\\sigma}{\\sqrt{n}}$ , se conoce como error estándar de la media (abreviada SE($\\bar{x}$) o\n",
    "sólo SE)."
   ]
  },
  {
   "cell_type": "markdown",
   "metadata": {},
   "source": [
    "### Ejemplo \n",
    "\n",
    "La duración de la enfermedad de Alzheimer desde el principio de síntomas hasta el fallecimiento varía de 3 a 20 años; el promedio es 8 años con una desviación estándar de 4\n",
    "años. El administrador de un gran centro médico al azar selecciona los registros médicos\n",
    "de 30 pacientes de Alzheimer ya fallecidos, de la base de datos del centro médico y anota\n",
    "la duración promedio. Encuentre las probabilidades aproximadas para estos eventos:\n",
    "\n",
    "1. La duración promedio es menor a 7 años.\n",
    "2. La duración promedio excede de 7 años.\n",
    "3. La duración promedio está a no más de 1 año de la media poblacional m  8"
   ]
  }
 ],
 "metadata": {
  "kernelspec": {
   "display_name": "R",
   "language": "R",
   "name": "ir"
  },
  "language_info": {
   "codemirror_mode": "r",
   "file_extension": ".r",
   "mimetype": "text/x-r-source",
   "name": "R",
   "pygments_lexer": "r",
   "version": "4.0.2"
  },
  "latex_envs": {
   "LaTeX_envs_menu_present": true,
   "autoclose": false,
   "autocomplete": true,
   "bibliofile": "biblio.bib",
   "cite_by": "apalike",
   "current_citInitial": 1,
   "eqLabelWithNumbers": true,
   "eqNumInitial": 1,
   "hotkeys": {
    "equation": "Ctrl-E",
    "itemize": "Ctrl-I"
   },
   "labels_anchors": false,
   "latex_user_defs": false,
   "report_style_numbering": false,
   "user_envs_cfg": false
  },
  "varInspector": {
   "cols": {
    "lenName": 16,
    "lenType": 16,
    "lenVar": 40
   },
   "kernels_config": {
    "python": {
     "delete_cmd_postfix": "",
     "delete_cmd_prefix": "del ",
     "library": "var_list.py",
     "varRefreshCmd": "print(var_dic_list())"
    },
    "r": {
     "delete_cmd_postfix": ") ",
     "delete_cmd_prefix": "rm(",
     "library": "var_list.r",
     "varRefreshCmd": "cat(var_dic_list()) "
    }
   },
   "types_to_exclude": [
    "module",
    "function",
    "builtin_function_or_method",
    "instance",
    "_Feature"
   ],
   "window_display": false
  }
 },
 "nbformat": 4,
 "nbformat_minor": 4
}
