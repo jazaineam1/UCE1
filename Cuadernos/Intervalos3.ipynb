{
 "cells": [
  {
   "cell_type": "markdown",
   "metadata": {},
   "source": [
    "# Intervalos de confianza para 2 poblaciones\n",
    "![](data:image/png;base64,iVBORw0KGgoAAAANSUhEUgAAAS0AAACnCAMAAABzYfrWAAAA8FBMVEX////X4/T/1dXUAAAsWqDRAADe6fj/3Nz/2topWJ8lVp7a5vYAKqMdUpz/3t4iVJ0APqgASZkUTpsAMaVher79ysr33t7K2O3+9/fT4PKns9jkfn6WqMr77OzXHh7X3uvEzuHmiIjroqL4ubnwnJyuwN2DnMbusLDZNzc8ZaZdfbSnttLspqbw8/gAOafolZXwvLzfUlLYLi5kg7dLcKzeSkrkZ2eHn8joe3vXHx82YaSvvNbl6vLlcHDWEBDtjo5yjr7bQkLhWlraNDSqvNsAAJtDZ7eVp9NWcrt7ksoAJKGZqNMlWbNrgsEJSq0AGJ+8MYh+AAAQRUlEQVR4nO1dC1fqSBJWQkIehki8iAhoVB6CgiioKArodWdmd+6d/f//ZruqE0jCIwlJuj1n+c6ZM46iU/lSVV1V3V21t7fDDjvs8H+F2nG/dXt3UalcXNzdtvrHNd4C+fB2bo1vqtXn52r1ZmyV3rqc5Kj1757ORAoBYH/98n5ZPOEkkxtvVnWQLZimqTsgXxcK5rA5PmcrSa3/LjgkLYP8ZFLp82TsbTzTC6ZuKNklKIpBSBtWWTF2fPewlig3ZR/1Y0YSeXH+/FowXUQpqqIiXNypulkYjFM3y9rdmYsqaoYPj/eAxwdhYZb0pw+XrDXsvKqauuLQBNanvw47A4JOp62AXRqqzZhBCLPSlKV4PyeD0HL2WalfFfMEOQL8d/GqXvmciK5PPWXSFMiH8bCgO0SZ5nBWbZTKkgtaqXHa7ChzG1VN8/ktJVlaLwsSPka3mXxOljM+yLKcyxdvR9cLwn72U5LHjxvDVG2t0QdVSyPsaNq+Fxr5rlT6mrVtDVT0wiwNF3YriA5Vn3Vgyk+UmzPCWH2uh+KklYI8flRNnWqVmW02NGmJJw9nhLHq0HZuRqGTNF/9eZjwWM9sZGrOWD5T/3D4eikmLI8fN1RXFF2fNYhObWBqwVip2qbKqBYGSdrj8bXNlTAq5sNQ5RDWf3dYvk8zbrWylCuzXd0PRZVDWGNAFcwoPCcmTMV+4sk0kwtNFUUuU7EtWLxLTB4fuoMC5WrYiECVo2BNHS1YN6xEhCnSxxUn9VAWuMSXPLX/wIuciDx+jE1jS64QUrlJ7dEcJBB/jeijCtPlBTC0fo1s9bqIL44f3Y6pgL9qb8cV8lWaIV+qacUU5viMkvUU2QY9fBU/6Z+5Ttp7WbqBoXl1a66QL2sIjk8pzGIJ06IPeXaVj8EVIH9J3b2Y7OJYLaARdkpSDK72wX9VcZ3Q2zGskbp38X1rI1xAztjqlaSz75gYNZzG5ArVqzTUkXlrW2Ho8wm3cRWLIl+nzus9Ka66bXg+fRhXsSg06Rm4zxbGWwlz8iCiqynGVyyKXBFTJ/ExGbLOdXDN5mxj1B4FUgMz7kJ1G7LOqCbE8e4+yDLV1uskKhPnsBZmzSSs0IFGrdFsRhamNkGypslYoYM8jSUe4tN1Dv5dNRoJkgU5dwfpmkUU5oSSdZksWeC8KF2xyQIfo76WkrJCB9LMjE6XbYZXCZqhQ9clNcZ4ZL3BMxntctJkEbrQ15uR0sZrXL6ukvLvbuRu0dXfxyGrC8FRKmQRuqpIVwRXj85YTIWsOV2jGGy9ErLUdMhytCt8IFFJkyxCFxqjWN+arA7JdpTXlMiy6VIKIUuEmO6Il8n7LAf5qRgnCWrqUCJN3MG76JrB/8EIlQQdiymEDj66aCCxXYo9LkC2Y6VHFqGrQ8JUYxhGmjOsOaRJFqHrXtx2YXyDqNT8SjTOWgZ4xjAL4zs8x8+0fNYc+E6mW7A1JM+hz1ImSyvBqhvsuvpoI8W0yZKv0N6jV1OrxKWow5TJIrb4BZ5eDRDmBKPSeuqqlcmhp3+JStY5Oq0UPfycrgFZePWAjBHsMG2nRZF/3KbaNVQTzqTXIxtoizLaIQOuCIqoxtHWxRtiH0aHCVlaA2zxdZM01xhppW+HAGqLn1HIgoyH2CELsiDqIrZo3qyXBuPSexZ2iHRdR41RIS7Vq0xUi6BskHdjro9R6T4DI7LsdfFneLKg8qC00/fwNiRYf/W1QReku+IovYzHj/wTvJ3wR3DQNBrM2NqX2hCjrlMugZ2LpyiKUSqDoFoqGxdPgY5+nXKB1xIv2KkW8VwYsIT1XE1QrVTzQz8kErCs81xnrFXLVq6PcGR1WauWo1wrC4MguVhhqVqgXOC58qHYAp/L0msBJMhKjVXS3DNdEG2gcoXbj1WZJIheaF/wiqxlYWog9xNb1YLSDbyjMBtmFhjFF1vVInTBbv+KQtedmGZ1eR1kqDqLYc6lQoFOYcwVMUVYWgrL5yxhA/GBVRjvomsSzs+DjzeajA0RCl0r/XwOwwfWquX4+eDcemyyDh8oMIhYyq2nPHx8xk5/xNtAtjokZ2szVy2iXLgU+03xBerk7A2RKBeEeYHHbjgZIgGaoq8SUeNkiI4pBq2KsCKyDrYoIORSfasiZj1XHMjKyLdhsh9YmrI8yNqXnokpFrzZD75g1sGWDUi4gk47v5IXPOBhiDT78QWoIPEnH7byH8Fbi2+4jnPRrX1NV3wxBLqtKQ+3RUwRjl0EOC50Wwx2elZBguW445amz81tOY4rt5EtWMYVPmTta8RxKaZbGkx7+KgWzawDkp8BCRHZFmtcbDV0X/IDTv6ak5PPyGeBbj7LK9oClPxu/oFH/cEB7sNu3Cnrcqk/OJAMxRufcotNARifTjax9cYtNkW2SKpouPb4cUlkcPhhNeRp0KKIS2KZE1n7EvGaqmtRPOZS25qzhTWuTWWIsZlVDF6qRWtc2YU0GED0OZFllyE2tdogAYTyyo0tWoZYSINZIi+yMpmroEyRvFzmJXkXW1icX2SKND7kxhYGXJu2rGcGv3DLDrhcbEFwKvBjKxMUnoKb5ZNTU7ZMT3h6AUs4R7aEALZIpmakfdR0A1vW92PrcgNbEPBwZss897B1tmMrAlu8dWvTRsb3Yuu7e/nOt/Lyl9+cLd5roneTrMWzvBUi3mryjbd80SlmPhy2Xm1gLL+pBxxULznG8r7MJ8Ox0OyUmjfliTc6r/0xZAtelr6QBmsQt9xqEPWgGgQuSrzI2pdmqudU0gnHLR9700fYQBbe0Oe15UNvKxozlzgC26PfXuSego7N43Yiv9pp27ehCCf07rmxdR14mhI3QLk5LnhX7kvpFa7BfPBlsjbHtNofytsBF68Q4ioo3KIBF68QQjvVfTcychwXxeAlkYYQvLYxYEl0l+X36BYZJzePTn7jkmgvipzcvIRuwCMOONoPHkcDCVtwLPFpM1t7JnHzz3xMEbeqvZ1HoGbDaR+jGObgaUfhtY+BWaLvxjCKzOjSqxd07zWoFX2Vm+OCK7DuvAfB5SYGAG9jBLgt6rj4nITQoMPQzCfOJ8jMZVGE91QJYgtv+fAoca06SGlHXBxiCBo/BF9RhIhL52CKGD8sXVE84WSKeBwp0BB5XYqyDXGwJM4n+7ucALxyF6ZzGXQGZl8/1b5WGaJdP2V+KimHR3TDtLPBVZF51QaqNd5DpzZAt36yDlDxClmobjZvXO6u4L2VVd1sphwOcVEfH3wnCgBvWWXs5+n1xFXNbGpMG41Q5LH5ZbhesejnmTUaoSjriudYoAvYy4LpXgbdvwjbox/6rbHdy5CejdXXqvfshoFMlYt2sgnbJmnMXLmwk017jTifqTbuXAYeOA0VPlBARyyFoeeSmmtu7C+Ui+GVTrxWEKED15jtsoh3qteqlu25mMVcNNYKThEXAM/Fog0eBTbD2zDLoMawtZvd3C3kgkhhsWzOgvm0/9arBxfM2gY6jQPDxVoOsG0gq2zxNbBxIPYrY1KKyNUjtZOieMMe/EwcPTbCC2hKie1OJwzIspssbr6WuAxoZ86kzoV2mFUCxEFH/5m+LebgfnAkF0+BLYEZBF1lnL9iBUhD28PepV3oyuNJkbPIZLFqD4t9rfVZoDjFdJvLU8i0I3+4xlteVLENadpkYYv5bLA0tBd/uq5Lpk5ru378QyP1DrESOq1w/fjBowjXqSrXixC1MewCXTXtLuCaBR3ANzWGdYG6rhQPKMn4PiJ3tHaAo3xS9PRaKauEcloUdHpBakFq7jHG5ALAOFW6tDKsu+EmFyAw6hLf06Er97lla/kF6BCZdOYXaOW2GtTO2gc6FSWVDTMZhzxE6KC7CnSiUxqd022y9EhDhvEui5hCZxsZzTBUp8BNGOjpGKNWegWyltqTBeCCDu/LJLs0ysWfYtCFsXCg49WSLnZJlgIVRzPyuG9K10Ni0xMBub49DC42WY52DRKbnohkfenbkWUbY2KTOQH2gLvYZkiBvssYJpgEkQge9vGj+SwH9ojcSlJ0YQ/r2A5+gSZOBVSTGqGolTt0zOCWU+SL9OkeE7HGHHVZgrBNcrgaNwWcyt1MxBqlRlbFMbJbi3OMGYog1OOrF509lvDEagtHv+ptK7Z6aVoTp4RHHsvpgT02+b4YL5bIFz/oH4ozB3AFukM0ntjqJTVeYdFQtxwoPMctNR+hEmNm9Xx0vJCUy1rguYBTuV+/YgxDl0oDk8723mIx9OKYuhtxUs9tx5csTwXbASY9Nx5gqXQq97CxJV9SuYkGrRSizxJeATuUEB+24Ssn303s34+2vRMezYJK58dbW/AllZ8NIyHFoqjd2897Ns1E8l9yLlMR7N99SkOxKM7baEhqZP3SpFJTR67UrWZ6r0H/zH5m4f0qH1bB5NzVk8PVw6Zr0/Fxo0MQTvSrXS2FJUyTtMbARK6UwizUIM7QuLSfWxB/Tov5QJcv53LFyoPzKwlF7xvQfTYpX7rZ+SpLgUukJklWM2uCCYPPS8gIXVjwJV5XruT8Wicm5/KZ1uhBdD4+SctheQB8wbOTzMXsEA1by5hGmCo3Zq+mgR83zKGVikAtR1kIYcLj6LJINCgny7aiwRfw3/3L0Ycgzj95nXzUsAbdG4UqCxD2Oqg2yhpw5oZEvlH6ag5NnVJFVHGWvF45yLzPaSCEiML152hab11RtOrT0f01ft/5iDCKuhkdD1bH1ClhwJiZ7cyeq42GVSKwGo2vanPQNglT9kcMM1tN1l/5cdK6X7BBOXNB8Pzkk5laLdC9AcVRKB1ZRdV1whqFrhuG6vyEkKk201OrBU7674KXmCUQ4kb9KGeNkkR3PNMdU1sFhdifOayyoMrGcet94lemua69jFpBN+jSxvnNLIvapGaVBUuKahCi9GHVStcAV+Ek17p7/5gsjFGYPI7u+se8dMqP7vm4OhtmF5aotgfNG2vL8lVSOKlRfBeWltDtdt/IP7zF2GGHHXbYYYcdvGiRYCu9Yl8s/OuAovfHn98lhPgIbAnFDQf/HB4her2jEm9hEHjhZeNgC344OPzrjeDc+n10ePAttGsqClfixhac/HBw+MP+6s9e70+uotiAFkdhJwOzxoKtvaPDv3hKYqMoisW9iiDylmMlXGz1vgVbT9ArJMdgq2IbLNh6O+r9m6soiBMRx2KdBU3144MFW38d/qfMVRTErYg3we7EwCZaPHBw+Mfp3wS/D3sHp7yF2YMZZnhPoCYGDtjkASfe6h3+0njLsgdXEez7Oo9hWh0xx8Hhr98EP/446h0kciokHirOrfuWGKKNFnMs/Nbv3hH/eGtxu0nc9p5TmnBFEL/4B/PYiMrZTAwcO80eLrZIMP/FU5Q97Ie92PNJ5CB8snCxddrr/c1TFFwJ32vHFLWz7W/RpQavbnGOIe7c2fSdGPkOfurw+K0ji6MkBBN32HAshmjFyRhztro/eof/8JUl4w1JH75fan1w+M8PwK+Dw8MjhkcfVuFJ9Ny7v/x+qfV/ez1aOz06+MF5T3/v8tZz7u/k8pbDIaSN+PvUBoeDIjvssEM6+B/xFN/0t+7a7QAAAABJRU5ErkJggg==)\n",
    "\n",
    "## Intervalo de confianza para la diferencia de medias **$\\mu_1-\\mu_2$**\n",
    "\n",
    "\n",
    "Un problema de igual importancia que la estimación de una sola media poblacional $\\mu$,\n",
    "para una población cuantitativa, es la comparación de dos medias poblacionales. Usted\n",
    "puede hacer comparaciones como éstas:\n",
    "\n",
    "- Las calificaciones promedio del examen de admisión para el colegio médico\n",
    "(MCAT) para estudiantes cuya especialización fuera bioquímica, y para aquellos\n",
    "cuya especialización fuera biología\n",
    "-  Las producciones promedio en una planta química que usa materias primas suministradas por dos proveedores diferentes\n",
    "- El promedio\n",
    "\n",
    "### Caso 1\n",
    "\n",
    "Cuando muestras aleatorias independientes de $n_1$ y $n_2$ observaciones han sido\n",
    "seleccionadas de entre poblaciones con medias $\\mu_1$ y $\\mu_2$ y varianzas $\\sigma_1^2$\n",
    " y $\\sigma_2^2$, respectivamente, la distribución muestral de la diferencia $\\bar{X}_1-\\bar{X}_2$ tiene las siguientes propiedades:\n",
    "  \n",
    "-  Si las poblaciones muestreadas no están distribuidas normalmente, entoncesla distribución muestral de $\\bar{X}_1-\\bar{X}_2$ está distribuida normalmente aproximadamente cuando $n_1$ y $n_2$ son ambas de 30 o más, debido al teorema del límite central.\n",
    "\n",
    "**UN INTERVALO DE CONFIANZA DE MUESTRA GRANDE DE $1-\\alpha)100\\%$ PARA $(\\mu_1 -\\mu_2)$**\n",
    "\n",
    "   $$(\\bar{X}_1-\\bar{X}_2) \\pm Z_{1-\\frac{\\alpha}{2}}\\sqrt{\\frac{S_1^2}{n_1}+\\frac{S_2^2}{n_2}}$$\n",
    " \n",
    "\n",
    "#### Ejemplo 1\n",
    "![](https://www.iconfinder.com/data/icons/unigrid-bluetone-mechanics/60/025_001_wheel_tire_car-128.png)\n",
    "\n",
    "Las resistencias al desgaste de dos tipos de llantas para automóvil se compararon en\n",
    "muestras de pruebas en camino de $n_1$ =$n_2$=100 llantas para cada tipo. El número de\n",
    "millas hasta el completo desgaste se defi nió como una cantidad específica de desgaste\n",
    "de la llanta. Los resultados de la prueba se muestran en la tabla. \n",
    "\n",
    "| Llanta 1                 | Llanta 2                 |\n",
    "|--------------------------|--------------------------|\n",
    "| $\\bar{X}_2$ =26400 millas| $\\bar{X}_2$ =25100 millas |\n",
    "| $S_1^2$  =1440 000        | $S_2^2$   =1960 000       |\n",
    "\n",
    "Estime $(\\mu_1 - \\mu_2)$,\n",
    "la diferencia en la media de millas hasta el completo desgaste, usando un intervalo de\n",
    "confianza de 99%. ¿Hay diferencia en el promedio de calidad de desgaste para los dos\n",
    "tipos de llantas?\n",
    "\n",
    "#### Solución:\n",
    "\n",
    "La estimación puntual de $(\\mu_1-\\mu_2)$ es\n",
    "\n",
    "$(\\bar{X}_1-\\bar{X}_2)=26 400-25 100 =1300$ millas\n",
    "\n",
    "El intervalo de confianza de ))% se calcula como\n",
    "\n",
    "$1300 \\pm 2.58\\times(184.4)$\n",
    "\n",
    "$1300\\pm 475.8$\n",
    "\n",
    "es decir la diferencia promedio de millas hasta el completo desgaste para los tipos de llantas se estima que está entre 825 y 1775 millas de desgaste.\n",
    "\n"
   ]
  },
  {
   "cell_type": "code",
   "execution_count": 3,
   "metadata": {},
   "outputs": [
    {
     "data": {
      "text/html": [
       "825.040544430663"
      ],
      "text/latex": [
       "825.040544430663"
      ],
      "text/markdown": [
       "825.040544430663"
      ],
      "text/plain": [
       "[1] 825.0405"
      ]
     },
     "metadata": {},
     "output_type": "display_data"
    },
    {
     "data": {
      "text/html": [
       "1774.95945556934"
      ],
      "text/latex": [
       "1774.95945556934"
      ],
      "text/markdown": [
       "1774.95945556934"
      ],
      "text/plain": [
       "[1] 1774.959"
      ]
     },
     "metadata": {},
     "output_type": "display_data"
    }
   ],
   "source": [
    "LI=(26400-25100)-qnorm(0.995)*sqrt(1440000/100+1960000/100);LI\n",
    "LS=(26400-25100)+qnorm(0.995)*sqrt(1440000/100+1960000/100);LS"
   ]
  },
  {
   "cell_type": "markdown",
   "metadata": {},
   "source": [
    "### Caso 2\n",
    "\n",
    " Las muestras se seleccionan al azar y en forma independiente de poblaciones distribuidas normalmente. Las varianzas de las poblaciones $\\sigma_1^2$ y $\\sigma_2^2$ son iguales y desconocidas.\n",
    " \n",
    " El procedimiento de dos muestras que usa una estimación agrupada de la varianza común $S^2$\n",
    " se apoya en cuatro importantes suposiciones:\n",
    " \n",
    " - Las muestras deben ser seleccionadas al azar. \n",
    "- Las muestras deben ser independientes.\n",
    "- Las poblaciones de las cuales se muestrea deben ser normales. \n",
    "- Las varianzas poblacionales deben ser iguales o casi iguales para asegurar quelos procedimientos sean válidos\n",
    "\n",
    "**INTERVALO DE CONFIANZA $(1 -\\alpha)100\\%$ DE MUESTRA PEQUEÑA PARA $(\\mu_1- \\mu_2)$ CON BASE EN MUESTRAS\n",
    "ALEATORIAS INDEPENDIENTES CON VARIANZAS IGUALES**\n",
    "$$(\\bar{X}_1-\\bar{X}_2) \\pm t_{n_1+n_2-2;1-\\frac{\\alpha}{2}}\\sqrt{S^2 \\left( \\frac{1}{n_1}+\\frac{1}{n_2}\\right)}$$\n",
    "\n",
    "donde $S^2=\\frac{(n_1-1)S^2_1+S_2^2(n_2-1)}{n_1+n_2-2}$"
   ]
  },
  {
   "cell_type": "markdown",
   "metadata": {},
   "source": [
    "#### Ejemplo 2\n",
    "![](https://www.iconfinder.com/data/icons/education-science-vol-1-1/512/z3-class_lesson_course_teacher-128.png)\n",
    "Puede tomarse un curso con crédito ya sea asistiendo a sesiones de clases en horas y días\n",
    "fijos, o haciendo sesiones en línea que el estudiante puede hacer a su propio paso y en\n",
    "los tiempos que el estudiante escoja. El coordinador del curso desea determinar si estos\n",
    "dos días de tomar el curso resultaron en una diferencia significativa en rendimiento\n",
    "medido por el examen final para el curso. La siguiente información da las calificaciones\n",
    "en un examen con 45 puntos posibles para un grupo de n1 = 9 estudiantes que tomaron\n",
    "el curso en línea y un segundo grupo de n2 = 9 estudiantes que tomaron el curso de\n",
    "clases convencionales.\n",
    "\n",
    "Crear un intervalo del 90% de confianza para la diferencia de calificaciones\n"
   ]
  },
  {
   "cell_type": "code",
   "execution_count": 5,
   "metadata": {},
   "outputs": [
    {
     "data": {
      "text/plain": [
       "\n",
       "\tTwo Sample t-test\n",
       "\n",
       "data:  linea and salon\n",
       "t = 1.6495, df = 16, p-value = 0.1185\n",
       "alternative hypothesis: true difference in means is not equal to 0\n",
       "90 percent confidence interval:\n",
       " -0.2142871  7.5476204\n",
       "sample estimates:\n",
       "mean of x mean of y \n",
       " 35.22222  31.55556 \n"
      ]
     },
     "metadata": {},
     "output_type": "display_data"
    }
   ],
   "source": [
    "linea=c(32,37,35,28,41,44,35,31,34)\n",
    "salon=c(35,31,29,25,34,40,27,32,31)\n",
    "t.test(linea,salon,var.equal = T,conf.level = 0.9)"
   ]
  },
  {
   "cell_type": "markdown",
   "metadata": {},
   "source": [
    "### Caso 3\n",
    "\n",
    "Si las varianzas poblacionales están lejos de ser iguales, hay un procedimiento alternativo para estimación y prueba que tiene una distribución t aproximada en muestreo repetido.\n",
    "\n",
    "**INTERVALO DE CONFIANZA $(1 -\\alpha)100\\%$ DE MUESTRA PEQUEÑA PARA $(\\mu_1- \\mu_2)$ CON BASE EN MUESTRAS\n",
    "ALEATORIAS INDEPENDIENTES CON VARIANZAS DIFERENTES**\n",
    "\n",
    "$$(\\bar{X}_1-\\bar{X}_2) \\pm t_{gl;1-\\frac{\\alpha}{2}}\\sqrt{\\frac{S_1^2}{n_1}+\\frac{S_2^2}{n_2}}$$\n",
    "\n",
    " donde $gl=\\frac{\\left(\\frac{S_1^2}{n1}+\\frac{S_2^2}{n_2}\\right)^2}{\\left(\\frac{\\left(S_1^2/n_1\\right)^2}{n_1-1}+\\frac{\\left(S_2^2/n_2\\right)^2}{n_2-1}\\right)}$\n",
    "\n",
    "#### Ejemplo 3\n",
    "\n",
    "![](https://www.iconfinder.com/data/icons/business-finance-vol-1-59/512/atm_cash_withdraw_money-128.png)\n",
    " El Commercial Bank and Trust Company estudia el uso de sus cajeros automáticos. De interés particular es si los adultos jóvenes (menores de 25 años) emplean las máquinas más que los adultos\n",
    "de la tercera edad. Para investigar más, se seleccionaron muestras de clientes menores de 25\n",
    "años de edad y de más de 60. Se determinó el número de transacciones en cajeros automáticos\n",
    "que cada individuo seleccionado realizó el mes pasado, cuyos resultados se muestran a continuación. Con un nivel de significancia de 0.01, estime el intervalo de confianza para la diferencia de medias de úso de maquinas"
   ]
  },
  {
   "cell_type": "code",
   "execution_count": 13,
   "metadata": {
    "scrolled": true
   },
   "outputs": [
    {
     "data": {
      "text/plain": [
       "\n",
       "\tWelch Two Sample t-test\n",
       "\n",
       "data:  menoresde25 and mayores60\n",
       "t = 6.3633, df = 10.207, p-value = 7.49e-05\n",
       "alternative hypothesis: true difference in means is not equal to 0\n",
       "99 percent confidence interval:\n",
       " 2.847606 8.447849\n",
       "sample estimates:\n",
       "mean of x mean of y \n",
       "10.375000  4.727273 \n"
      ]
     },
     "metadata": {},
     "output_type": "display_data"
    }
   ],
   "source": [
    "menoresde25=c(10,10,11,15,7,11,10,9)\n",
    "mayores60=c(4,5,7,5,4,5,2,6,4,5,5)\n",
    "t.test(menoresde25,mayores60,conf.level = 0.99,var.equal = F)"
   ]
  },
  {
   "cell_type": "code",
   "execution_count": 14,
   "metadata": {},
   "outputs": [
    {
     "data": {
      "text/html": [
       "3.16713483146067"
      ],
      "text/latex": [
       "3.16713483146067"
      ],
      "text/markdown": [
       "3.16713483146067"
      ],
      "text/plain": [
       "[1] 3.167135"
      ]
     },
     "metadata": {},
     "output_type": "display_data"
    }
   ],
   "source": [
    "var(menoresde25)/var(mayores60)"
   ]
  },
  {
   "cell_type": "markdown",
   "metadata": {},
   "source": [
    "## Ejercicios\n",
    "\n",
    "![](https://www.iconfinder.com/data/icons/online-education-indigo-vol-2/256/Homework-128.png)\n",
    "\n",
    "\n",
    "**1.** Dos veleros, el Prada (Italia) y el Oracle (Estados Unidos), compiten por la clasificación en la próxima carrera de la Copa América. Compiten sobre una parte de la ruta varias veces. A continuación se muestran los tiempos de las muestras en minutos. Suponga que las desviaciones estándares de las poblaciones no son iguales. Con un nivel de significancia de 0.05, encuentre el intervalo de confianza para la diferencia de tiempos.\n",
    "\n",
    "| Velere Prada | Velero Oracle |\n",
    "|--------------|---------------|\n",
    "| 12,9         | 14,1          |\n",
    "| 12,5         | 14,1          |\n",
    "| 11           | 14,2          |\n",
    "| 13,3         | 17,4          |\n",
    "| 11,2         | 15,8          |\n",
    "| 11,4         | 16,1          |\n",
    "| 11,6         | 13,3          |\n",
    "| 12,3         | 13,4          |\n",
    "| 14,2         | 10,8          |\n",
    "| 11,3         | 19            |\n",
    "\n",
    "**2.**  Para comparar el efecto del estrés\n",
    "en la forma de ruido sobre la capacidad de realizar un\n",
    "trabajo sencillo, 70 personas fueron divididas en dos\n",
    "grupos. El primer grupo de 30 personas actuó como\n",
    "control, en tanto que el segundo grupo de 40 fueron el\n",
    "grupo experimental. Aun cuando cada persona realizó\n",
    "el trabajo en el mismo cuarto de control, cada una de\n",
    "las personas del grupo experimental tuvo que realizar\n",
    "el trabajo cuando se reproducía música de rock a alto\n",
    "volumen. El tiempo para terminar el trabajo se registró\n",
    "para cada individuo y se obtuvo el siguiente resumen:\n",
    "\n",
    "|           |   Control  | Experimental |\n",
    "|:---------:|:----------:|:------------:|\n",
    "|     $n$     |     30     |      40      |\n",
    "| $\\bar{X}$ | 15 minutos |  23 minutos  |\n",
    "|     $S$     |  4 minutos |  10 minutos  |\n",
    "\n",
    "\n",
    "**a.**  Encuentre un intervalo de confianza de 99% para la diferencia en tiempos medios de terminación para estos dos grupos.\n",
    "\n",
    "**b.** Con base en el intervalo de confianza del inciso a), ¿hay suficiente evidencia para indicar una diferencia en el tiempo promedio de terminación para los dos grupos? Explique.\n",
    "\n",
    "\n",
    "**3.**  Nacidos entre 1980 y\n",
    "1990, la Generación Siguiente ha vivido en un mundo\n",
    "posterior a la Guerra Fría y un tiempo de relativa\n",
    "prosperidad económica en Estados Unidos, pero también\n",
    "han conocido el 11 de septiembre y el temor a otro ataque,\n",
    "dos Guerras del Golfo, la tragedia de la Secundaria de\n",
    "Columbine, el huracán Katrina y la creciente polarización\n",
    "de discursos públicos. Más que cualquiera que llegó\n",
    "antes, la Generación Siguiente está comprometida con la\n",
    "tecnología y la gran mayoría depende de ella. Suponga\n",
    "que de una encuesta de 500 estudiantes mujeres y 500\n",
    "hombres de la Generación Siguiente, 345 de las mujeres\n",
    "y 365 de los hombres dijeron que decidieron asistir a la\n",
    "universidad para ganar más dinero.\n",
    "a. Construya un intervalo de confianza de 98% para la\n",
    "diferencia en las proporciones de estudiantes mujeres\n",
    "y hombres que decidieron asistir a la universidad para\n",
    "ganar más dinero.\n",
    "b. ¿Qué significa decir que está “98% seguro”?\n",
    "c. Con base en el intervalo de confianza del inciso a),\n",
    "¿se puede concluir que hay una diferencia en las\n",
    "proporciones de estudiantes mujeres y hombres que\n",
    "decidieron asistir a la universidad para ganar más\n",
    "dinero?\n",
    "\n",
    "**4.** ¿Cómo se compara Brett\n",
    "Favre, mariscal de campo de los empacadores de Green\n",
    "Bay, con Peyton Manning, mariscal de campo de los\n",
    "Potros de Indianápolis? La tabla siguiente muestra el\n",
    "número de pases completos para cada atleta durante la\n",
    "temporada de fútbol de 2006 de la NFL:\n",
    "\n",
    "| Brett   Favre | Peyton Manning |\n",
    "|---------------|----------------|\n",
    "| 15            | 25             |\n",
    "| 31            | 26             |\n",
    "| 25            | 14             |\n",
    "| 22            | 21             |\n",
    "| 22            | 20             |\n",
    "| 19            | 25             |\n",
    "| 17            | 32             |\n",
    "| 28            | 30             |\n",
    "| 24            | 27             |\n",
    "| 5             | 20             |\n",
    "| 22            | 14             |\n",
    "| 24            | 21             |\n",
    "| 22            | 25             |\n",
    "| 20            | 29             |\n",
    "| 26            | 21             |\n",
    "| 21            | 22             |\n",
    "\n",
    "\n",
    "**a.**  Construya un intervalo de confianza de 95% para la\n",
    "diferencia en el número promedio de pases completos\n",
    "para los dos mariscales de campo. ¿El intervalo de\n",
    "confianza confirma  que hay diferencia entre la diferencia de los pases promedio?\n"
   ]
  }
 ],
 "metadata": {
  "author": "mes",
  "kernelspec": {
   "display_name": "R",
   "language": "R",
   "name": "ir"
  },
  "language_info": {
   "codemirror_mode": "r",
   "file_extension": ".r",
   "mimetype": "text/x-r-source",
   "name": "R",
   "pygments_lexer": "r",
   "version": "4.0.1"
  },
  "latex_envs": {
   "LaTeX_envs_menu_present": true,
   "autoclose": false,
   "autocomplete": true,
   "bibliofile": "biblio.bib",
   "cite_by": "apalike",
   "current_citInitial": 1,
   "eqLabelWithNumbers": true,
   "eqNumInitial": 1,
   "hotkeys": {
    "equation": "Ctrl-E",
    "itemize": "Ctrl-I"
   },
   "labels_anchors": false,
   "latex_user_defs": false,
   "report_style_numbering": false,
   "user_envs_cfg": false
  },
  "toc": {
   "base_numbering": 1,
   "nav_menu": {},
   "number_sections": false,
   "sideBar": true,
   "skip_h1_title": false,
   "title_cell": "Table of Contents",
   "title_sidebar": "Contents",
   "toc_cell": false,
   "toc_position": {},
   "toc_section_display": true,
   "toc_window_display": false
  }
 },
 "nbformat": 4,
 "nbformat_minor": 4
}
